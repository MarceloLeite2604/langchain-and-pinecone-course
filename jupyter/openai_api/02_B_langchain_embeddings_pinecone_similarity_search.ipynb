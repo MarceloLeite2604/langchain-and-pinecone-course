{
 "cells": [
  {
   "cell_type": "markdown",
   "id": "5f10b4d1",
   "metadata": {},
   "source": [
    "# Splitting and Embedding Text Using LangChain (Similarity Search)\n",
    "\n",
    "This notebook uses the latest versions of the libraries OpenAI, LangChain, and Pinecone."
   ]
  },
  {
   "cell_type": "code",
   "execution_count": null,
   "id": "25b68c5a",
   "metadata": {},
   "outputs": [],
   "source": [
    "pip install -q -r ./requirements.txt"
   ]
  },
  {
   "cell_type": "markdown",
   "id": "81676843",
   "metadata": {},
   "source": [
    "Download [requirements.txt](https://drive.google.com/file/d/1UpURYL9kqjXfe9J8o-_Dq5KJTbQpzMef/view?usp=sharing)"
   ]
  },
  {
   "cell_type": "code",
   "execution_count": 1,
   "id": "8859749e",
   "metadata": {},
   "outputs": [
    {
     "data": {
      "text/plain": [
       "True"
      ]
     },
     "execution_count": 1,
     "metadata": {},
     "output_type": "execute_result"
    }
   ],
   "source": [
    "import os\n",
    "from dotenv import load_dotenv, find_dotenv\n",
    "load_dotenv(find_dotenv(), override=True)"
   ]
  },
  {
   "cell_type": "code",
   "execution_count": 2,
   "id": "5cedb18d",
   "metadata": {},
   "outputs": [],
   "source": [
    "from langchain.text_splitter import RecursiveCharacterTextSplitter\n",
    "\n",
    "with open('files/churchill_speech.txt') as f:\n",
    "    churchill_speech = f.read()\n",
    "\n",
    "text_splitter = RecursiveCharacterTextSplitter(\n",
    "    chunk_size=100,\n",
    "    chunk_overlap=20,\n",
    "    length_function=len\n",
    ")"
   ]
  },
  {
   "cell_type": "code",
   "execution_count": 3,
   "id": "e0693ae6",
   "metadata": {},
   "outputs": [
    {
     "name": "stdout",
     "output_type": "stream",
     "text": [
      "Now you have 300\n"
     ]
    }
   ],
   "source": [
    "chunks = text_splitter.create_documents([churchill_speech])\n",
    "# print(chunks[2])\n",
    "# print(chunks[10].page_content)\n",
    "print(f'Now you have {len(chunks)}')"
   ]
  },
  {
   "cell_type": "markdown",
   "id": "df4d686b",
   "metadata": {},
   "source": [
    "#### Embedding Cost"
   ]
  },
  {
   "cell_type": "code",
   "execution_count": 4,
   "id": "8ed819e6",
   "metadata": {},
   "outputs": [
    {
     "name": "stdout",
     "output_type": "stream",
     "text": [
      "Total Tokens: 4820\n",
      "Embedding Cost in USD: 0.000096\n"
     ]
    }
   ],
   "source": [
    "def print_embedding_cost(texts):\n",
    "    import tiktoken\n",
    "    enc = tiktoken.encoding_for_model('text-embedding-3-small')\n",
    "    total_tokens = sum([len(enc.encode(page.page_content)) for page in texts])\n",
    "    # check prices here: https://openai.com/pricing\n",
    "    print(f'Total Tokens: {total_tokens}')\n",
    "    print(f'Embedding Cost in USD: {total_tokens / 1000 * 0.00002:.6f}')\n",
    "    \n",
    "print_embedding_cost(chunks)"
   ]
  },
  {
   "cell_type": "markdown",
   "id": "bdf79b3b",
   "metadata": {},
   "source": [
    "### Creating embeddings"
   ]
  },
  {
   "cell_type": "code",
   "execution_count": 11,
   "id": "53572e13",
   "metadata": {},
   "outputs": [],
   "source": [
    "# import warnings\n",
    "# warnings.filterwarnings('ignore', module='langchain')"
   ]
  },
  {
   "cell_type": "code",
   "execution_count": 5,
   "id": "3bdfd40d",
   "metadata": {},
   "outputs": [],
   "source": [
    "from langchain_openai import OpenAIEmbeddings\n",
    "embeddings = OpenAIEmbeddings(model='text-embedding-3-small', dimensions=1536)  # 512 works as well"
   ]
  },
  {
   "cell_type": "code",
   "execution_count": null,
   "id": "425c3c35",
   "metadata": {},
   "outputs": [],
   "source": [
    "vector = embeddings.embed_query(chunks[0].page_content)\n",
    "vector"
   ]
  },
  {
   "cell_type": "markdown",
   "id": "96f866ff",
   "metadata": {},
   "source": [
    "### Inserting the Embeddings into a Pinecone Index"
   ]
  },
  {
   "cell_type": "code",
   "execution_count": 8,
   "id": "5215b7e7",
   "metadata": {},
   "outputs": [],
   "source": [
    "# I'm importing the necessary libraries and initializing the Pinecone client\n",
    "import os\n",
    "import pinecone\n",
    "\n",
    "from langchain_community.vectorstores import Pinecone\n",
    "\n",
    "pc = pinecone.Pinecone()"
   ]
  },
  {
   "cell_type": "code",
   "execution_count": 9,
   "id": "bb3b94b4",
   "metadata": {},
   "outputs": [
    {
     "name": "stdout",
     "output_type": "stream",
     "text": [
      "Deleting all indexes ... Done\n"
     ]
    }
   ],
   "source": [
    "# deleting all indexes\n",
    "indexes = pc.list_indexes().names()\n",
    "for i in indexes:\n",
    "    print('Deleting all indexes ... ', end='')\n",
    "    pc.delete_index(i)\n",
    "    print('Done')"
   ]
  },
  {
   "cell_type": "code",
   "execution_count": 10,
   "id": "cc9404a9",
   "metadata": {},
   "outputs": [
    {
     "name": "stdout",
     "output_type": "stream",
     "text": [
      "Creating index churchill-speech\n",
      "Index created! 😊\n"
     ]
    }
   ],
   "source": [
    "# creating an index\n",
    "from pinecone import ServerlessSpec\n",
    "index_name = 'churchill-speech'\n",
    "if index_name not in pc.list_indexes().names():\n",
    "    print(f'Creating index {index_name}')\n",
    "    pc.create_index(\n",
    "        name=index_name,\n",
    "        dimension=1536,\n",
    "        metric='cosine',\n",
    "        spec=ServerlessSpec(\n",
    "            cloud=\"aws\",\n",
    "            region=\"us-east-1\"\n",
    "        ) \n",
    "    )\n",
    "    print('Index created! 😊')\n",
    "else:\n",
    "    print(f'Index {index_name} already exists!')"
   ]
  },
  {
   "cell_type": "code",
   "execution_count": 11,
   "id": "9bb84fba",
   "metadata": {},
   "outputs": [],
   "source": [
    "# processing the input documents, generating embeddings using the provided `OpenAIEmbeddings` instance,\n",
    "# inserting the embeddings into the index and returning a new Pinecone vector store object. \n",
    "vector_store = Pinecone.from_documents(chunks, embeddings, index_name=index_name)"
   ]
  },
  {
   "cell_type": "code",
   "execution_count": 12,
   "id": "014acab8-ecd0-456c-976d-4b5890f8b0ab",
   "metadata": {},
   "outputs": [
    {
     "data": {
      "text/plain": [
       "{'dimension': 1536,\n",
       " 'index_fullness': 0.0,\n",
       " 'namespaces': {'': {'vector_count': 268}},\n",
       " 'total_vector_count': 268}"
      ]
     },
     "execution_count": 12,
     "metadata": {},
     "output_type": "execute_result"
    }
   ],
   "source": [
    "index = pc.Index(index_name)\n",
    "index.describe_index_stats()"
   ]
  },
  {
   "cell_type": "markdown",
   "id": "0cb0b01d",
   "metadata": {},
   "source": [
    "### Asking Questions (Similarity Search)"
   ]
  },
  {
   "cell_type": "code",
   "execution_count": 13,
   "id": "e4cccccd",
   "metadata": {},
   "outputs": [
    {
     "name": "stdout",
     "output_type": "stream",
     "text": [
      "[Document(page_content='shall fight on the beaches, we shall fight on the landing grounds, we shall fight in the fields and'), Document(page_content='end, we shall fight in France, we shall fight on the seas and oceans, we shall fight with growing'), Document(page_content='streets, we shall fight in the hills; we shall never surrender, and even if, which I do not for a'), Document(page_content='number of the enemy, and fought fiercely on some of the old grounds that so many of us knew so')]\n"
     ]
    }
   ],
   "source": [
    "query = 'Where should we fight?'\n",
    "result = vector_store.similarity_search(query)\n",
    "print(result)"
   ]
  },
  {
   "cell_type": "code",
   "execution_count": 14,
   "id": "0bdacf56",
   "metadata": {
    "scrolled": true
   },
   "outputs": [
    {
     "name": "stdout",
     "output_type": "stream",
     "text": [
      "shall fight on the beaches, we shall fight on the landing grounds, we shall fight in the fields and\n",
      "--------------------------------------------------\n",
      "end, we shall fight in France, we shall fight on the seas and oceans, we shall fight with growing\n",
      "--------------------------------------------------\n",
      "streets, we shall fight in the hills; we shall never surrender, and even if, which I do not for a\n",
      "--------------------------------------------------\n",
      "number of the enemy, and fought fiercely on some of the old grounds that so many of us knew so\n",
      "--------------------------------------------------\n"
     ]
    }
   ],
   "source": [
    "for r in result:\n",
    "    print(r.page_content)\n",
    "    print('-' * 50)"
   ]
  },
  {
   "cell_type": "markdown",
   "id": "5f155a46",
   "metadata": {},
   "source": [
    "### Answering in Natural Language using an LLM"
   ]
  },
  {
   "cell_type": "code",
   "execution_count": 15,
   "id": "19cf0082",
   "metadata": {},
   "outputs": [],
   "source": [
    "from langchain.chains import RetrievalQA\n",
    "from langchain_openai import ChatOpenAI\n",
    "\n",
    "# Initialize the LLM with the specified model and temperature\n",
    "llm = ChatOpenAI(model='gpt-3.5-turbo', temperature=0.2)\n",
    "\n",
    "# Use the provided vector store with similarity search and retrieve top 3 results\n",
    "retriever = vector_store.as_retriever(search_type='similarity', search_kwargs={'k': 3})\n",
    "\n",
    "# Create a RetrievalQA chain using the defined LLM, chain type 'stuff', and retriever\n",
    "chain = RetrievalQA.from_chain_type(llm=llm, chain_type='stuff', retriever=retriever)\n"
   ]
  },
  {
   "cell_type": "code",
   "execution_count": 16,
   "id": "bf8e6835",
   "metadata": {},
   "outputs": [
    {
     "name": "stdout",
     "output_type": "stream",
     "text": [
      "{'query': 'Answer only from the provided input. Where should we fight?', 'result': 'We shall fight on the beaches, we shall fight on the landing grounds, we shall fight in the fields and streets, we shall fight in the hills.'}\n"
     ]
    }
   ],
   "source": [
    "query = 'Answer only from the provided input. Where should we fight?'\n",
    "answer = chain.invoke(query)\n",
    "print(answer)"
   ]
  },
  {
   "cell_type": "code",
   "execution_count": 19,
   "id": "09c9ab37",
   "metadata": {},
   "outputs": [
    {
     "name": "stdout",
     "output_type": "stream",
     "text": [
      "{'query': 'Who was the king of Belgium at that time?', 'result': 'The king of Belgium at that time was King Leopold.'}\n"
     ]
    }
   ],
   "source": [
    "query = 'Who was the king of Belgium at that time?'\n",
    "answer = chain.invoke(query)\n",
    "print(answer)"
   ]
  },
  {
   "cell_type": "code",
   "execution_count": 20,
   "id": "c8688ba8",
   "metadata": {},
   "outputs": [
    {
     "name": "stdout",
     "output_type": "stream",
     "text": [
      "{'query': 'What about the French Armies??', 'result': 'The French Armies were involved in the fighting, particularly in the area around the Somme. They were supposed to advance across the Somme in great strength.'}\n"
     ]
    }
   ],
   "source": [
    "query = 'What about the French Armies??'\n",
    "answer = chain.invoke(query)\n",
    "print(answer)"
   ]
  },
  {
   "cell_type": "code",
   "execution_count": null,
   "id": "2431925c-b2ba-4c10-9e25-48daad395a31",
   "metadata": {},
   "outputs": [],
   "source": []
  }
 ],
 "metadata": {
  "kernelspec": {
   "display_name": "Python 3 (ipykernel)",
   "language": "python",
   "name": "python3"
  },
  "language_info": {
   "codemirror_mode": {
    "name": "ipython",
    "version": 3
   },
   "file_extension": ".py",
   "mimetype": "text/x-python",
   "name": "python",
   "nbconvert_exporter": "python",
   "pygments_lexer": "ipython3",
   "version": "3.11.2"
  },
  "widgets": {
   "application/vnd.jupyter.widget-state+json": {
    "state": {},
    "version_major": 2,
    "version_minor": 0
   }
  }
 },
 "nbformat": 4,
 "nbformat_minor": 5
}
